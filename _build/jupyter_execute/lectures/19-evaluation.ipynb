{
 "cells": [
  {
   "cell_type": "markdown",
   "id": "565fd595",
   "metadata": {
    "slideshow": {
     "slide_type": "slide"
    }
   },
   "source": [
    "# Model evaluation"
   ]
  },
  {
   "cell_type": "markdown",
   "id": "81d43784",
   "metadata": {
    "slideshow": {
     "slide_type": "skip"
    }
   },
   "source": [
    "##### Libraries"
   ]
  },
  {
   "cell_type": "code",
   "execution_count": 1,
   "id": "51c0f716",
   "metadata": {
    "slideshow": {
     "slide_type": "skip"
    }
   },
   "outputs": [],
   "source": [
    "## Imports\n",
    "import pandas as pd\n",
    "import numpy as np\n",
    "import matplotlib.pyplot as plt\n",
    "import statsmodels.api as sm\n",
    "import statsmodels.formula.api as smf\n",
    "import seaborn as sns\n",
    "import scipy.stats as ss"
   ]
  },
  {
   "cell_type": "code",
   "execution_count": 2,
   "id": "e53866de",
   "metadata": {
    "slideshow": {
     "slide_type": "skip"
    }
   },
   "outputs": [],
   "source": [
    "%matplotlib inline\n",
    "%config InlineBackend.figure_format = 'retina'  # makes figs nicer!"
   ]
  },
  {
   "cell_type": "markdown",
   "id": "0e698b4b",
   "metadata": {
    "slideshow": {
     "slide_type": "slide"
    }
   },
   "source": [
    "## Goals of this lecture\n",
    " \n",
    "- Why is evaluating models important? (Today's focus: **classifiers**.)\n",
    "- **Metrics**:\n",
    "   - Accuracy.  \n",
    "   - [Type 1 vs. Type 2 errors](https://en.wikipedia.org/wiki/Type_I_and_type_II_errors).\n",
    "   - [Precision vs. Recall](https://en.wikipedia.org/wiki/Precision_and_recall).\n",
    "   - [AIC](https://en.wikipedia.org/wiki/Akaike_information_criterion).\n",
    "- **Visualization techniques**:\n",
    "   - [Confusion matrix](https://en.wikipedia.org/wiki/Confusion_matrix).\n",
    "   - [ROC Curve](https://en.wikipedia.org/wiki/Receiver_operating_characteristic)."
   ]
  },
  {
   "cell_type": "markdown",
   "id": "dca2e514",
   "metadata": {
    "slideshow": {
     "slide_type": "slide"
    }
   },
   "source": [
    "## Why evaluate models?"
   ]
  },
  {
   "cell_type": "markdown",
   "id": "1234745a",
   "metadata": {
    "slideshow": {
     "slide_type": "slide"
    }
   },
   "source": [
    "### Science is about building models\n",
    "\n",
    "> A central goal of science is building **models** of the world. This includes verbal explanations but also and especially **statistical models**. \n",
    "\n",
    "Typically, we want our models to be:\n",
    "\n",
    "- **Accurate**: they should be a good description of the data.\n",
    "- **Parsimonious**: they shouldn't be more complicated than they need to be."
   ]
  },
  {
   "cell_type": "markdown",
   "id": "62488dc9",
   "metadata": {
    "slideshow": {
     "slide_type": "slide"
    }
   },
   "source": [
    "### Many *possible* models\n",
    "\n",
    "> Given any dataset $d$, there are many *possible* models $m_1, m_2, ..., m_n$ we could build of that dataset.\n",
    "\n",
    "Which model is \"best\"?\n",
    "\n",
    "- Here, \"best\" is always relative to some goal. \n",
    "   - Best at predicting $Y$?  \n",
    "   - Most theoeretically interesting?\n",
    "- This process of selecting the best model is called **model selection**."
   ]
  },
  {
   "cell_type": "markdown",
   "id": "dd432053",
   "metadata": {
    "slideshow": {
     "slide_type": "slide"
    }
   },
   "source": [
    "### *Comparing* models\n",
    "\n",
    "> In order to select the best model, researchers often **compare** multiple models in terms of their predictive power.\n",
    "\n",
    "These model comparison approaches typically incorporate:\n",
    "\n",
    "1. A measure of **accuracy**: how well do $m_1$ vs. $m_2$ fit the data, $d$?\n",
    "2. A measure of **complexity**: how complex are $m_1$ and $m_2$, respectively?"
   ]
  },
  {
   "cell_type": "markdown",
   "id": "f19e76d7",
   "metadata": {
    "slideshow": {
     "slide_type": "slide"
    }
   },
   "source": [
    "### Review: evaluating linear models\n",
    "\n",
    "We've already discussed several approaches to evaluating and comparing **linear regression models**:\n",
    "\n",
    "- $R^2$: what proportion of variance in $Y$ is explained by $X$?  \n",
    "- $Adj. R^2$: what proportion of variance in $Y$ is explained by $X$, adjusting for $n$ and $p$?\n",
    "- $MSE$: how much *squared error* does our model of $Y$ typically have? \n",
    "\n",
    "In combination with **cross-validation**, these techniques allow us to compare the **accuracy** of models while also penalizing **over-fitting**."
   ]
  },
  {
   "cell_type": "markdown",
   "id": "5b278887",
   "metadata": {
    "slideshow": {
     "slide_type": "slide"
    }
   },
   "source": [
    "### Bias-variance trade-off revisited\n",
    "\n",
    "- Red line = test error.\n",
    "- Blue line = train error.\n",
    "\n",
    "![title](img/bias.png)\n",
    "\n",
    "[Screenshot from *The Elements of Statistical Learning*](https://hastie.su.domains/ElemStatLearn/)."
   ]
  },
  {
   "cell_type": "markdown",
   "id": "7958a27a",
   "metadata": {
    "slideshow": {
     "slide_type": "slide"
    }
   },
   "source": [
    "## Evaluating classifiers: metrics\n",
    "\n",
    "Today, we'll be focusing on evaluating **classification models**.\n",
    "\n",
    "- Some of these metrics also apply to linear models, like AIC.  \n",
    "- But others (like [precision and recall](https://en.wikipedia.org/wiki/Precision_and_recall)) are limited to *categorical* data."
   ]
  },
  {
   "cell_type": "markdown",
   "id": "e60a60e1",
   "metadata": {
    "slideshow": {
     "slide_type": "slide"
    }
   },
   "source": [
    "### Loading the dataset"
   ]
  },
  {
   "cell_type": "code",
   "execution_count": 3,
   "id": "aafcd4c6",
   "metadata": {
    "slideshow": {
     "slide_type": "-"
    }
   },
   "outputs": [
    {
     "data": {
      "text/html": [
       "<div>\n",
       "<style scoped>\n",
       "    .dataframe tbody tr th:only-of-type {\n",
       "        vertical-align: middle;\n",
       "    }\n",
       "\n",
       "    .dataframe tbody tr th {\n",
       "        vertical-align: top;\n",
       "    }\n",
       "\n",
       "    .dataframe thead th {\n",
       "        text-align: right;\n",
       "    }\n",
       "</style>\n",
       "<table border=\"1\" class=\"dataframe\">\n",
       "  <thead>\n",
       "    <tr style=\"text-align: right;\">\n",
       "      <th></th>\n",
       "      <th>spam</th>\n",
       "      <th>to_multiple</th>\n",
       "      <th>from</th>\n",
       "      <th>cc</th>\n",
       "      <th>sent_email</th>\n",
       "      <th>time</th>\n",
       "      <th>image</th>\n",
       "      <th>attach</th>\n",
       "      <th>dollar</th>\n",
       "      <th>winner</th>\n",
       "      <th>...</th>\n",
       "      <th>viagra</th>\n",
       "      <th>password</th>\n",
       "      <th>num_char</th>\n",
       "      <th>line_breaks</th>\n",
       "      <th>format</th>\n",
       "      <th>re_subj</th>\n",
       "      <th>exclaim_subj</th>\n",
       "      <th>urgent_subj</th>\n",
       "      <th>exclaim_mess</th>\n",
       "      <th>number</th>\n",
       "    </tr>\n",
       "  </thead>\n",
       "  <tbody>\n",
       "    <tr>\n",
       "      <th>0</th>\n",
       "      <td>0</td>\n",
       "      <td>0</td>\n",
       "      <td>1</td>\n",
       "      <td>0</td>\n",
       "      <td>0</td>\n",
       "      <td>2012-01-01T06:16:41Z</td>\n",
       "      <td>0</td>\n",
       "      <td>0</td>\n",
       "      <td>0</td>\n",
       "      <td>no</td>\n",
       "      <td>...</td>\n",
       "      <td>0</td>\n",
       "      <td>0</td>\n",
       "      <td>11.370</td>\n",
       "      <td>202</td>\n",
       "      <td>1</td>\n",
       "      <td>0</td>\n",
       "      <td>0</td>\n",
       "      <td>0</td>\n",
       "      <td>0</td>\n",
       "      <td>big</td>\n",
       "    </tr>\n",
       "    <tr>\n",
       "      <th>1</th>\n",
       "      <td>0</td>\n",
       "      <td>0</td>\n",
       "      <td>1</td>\n",
       "      <td>0</td>\n",
       "      <td>0</td>\n",
       "      <td>2012-01-01T07:03:59Z</td>\n",
       "      <td>0</td>\n",
       "      <td>0</td>\n",
       "      <td>0</td>\n",
       "      <td>no</td>\n",
       "      <td>...</td>\n",
       "      <td>0</td>\n",
       "      <td>0</td>\n",
       "      <td>10.504</td>\n",
       "      <td>202</td>\n",
       "      <td>1</td>\n",
       "      <td>0</td>\n",
       "      <td>0</td>\n",
       "      <td>0</td>\n",
       "      <td>1</td>\n",
       "      <td>small</td>\n",
       "    </tr>\n",
       "  </tbody>\n",
       "</table>\n",
       "<p>2 rows × 21 columns</p>\n",
       "</div>"
      ],
      "text/plain": [
       "   spam  to_multiple  from  cc  sent_email                  time  image  \\\n",
       "0     0            0     1   0           0  2012-01-01T06:16:41Z      0   \n",
       "1     0            0     1   0           0  2012-01-01T07:03:59Z      0   \n",
       "\n",
       "   attach  dollar winner  ...  viagra  password  num_char  line_breaks  \\\n",
       "0       0       0     no  ...       0         0    11.370          202   \n",
       "1       0       0     no  ...       0         0    10.504          202   \n",
       "\n",
       "   format  re_subj  exclaim_subj  urgent_subj  exclaim_mess  number  \n",
       "0       1        0             0            0             0     big  \n",
       "1       1        0             0            0             1   small  \n",
       "\n",
       "[2 rows x 21 columns]"
      ]
     },
     "execution_count": 3,
     "metadata": {},
     "output_type": "execute_result"
    }
   ],
   "source": [
    "df_spam = pd.read_csv(\"data/models/classification/email.csv\")\n",
    "df_spam.head(2)"
   ]
  },
  {
   "cell_type": "markdown",
   "id": "657e2f0d",
   "metadata": {
    "slideshow": {
     "slide_type": "slide"
    }
   },
   "source": [
    "### Accuracy\n",
    "\n",
    "> The **accuracy** of a model is the number of **correct predictions** divided by the total number of observations.\n",
    "\n",
    "$Accuracy = \\frac{TP + TN}{TP + TN + FP + FN}$\n",
    "\n",
    "Where:\n",
    "\n",
    "- $TP$: True positive.\n",
    "- $TN$: True negative.\n",
    "- $FP$: False positive.\n",
    "- $FN$: False negative."
   ]
  },
  {
   "cell_type": "markdown",
   "id": "8eb0da6c",
   "metadata": {
    "slideshow": {
     "slide_type": "slide"
    }
   },
   "source": [
    "#### Assessing accuracy\n",
    "\n",
    "A straightforward way to assess accuracy is to simply compare the **true labels**, $Y$, to the **predicted labels**, $\\hat{Y}$."
   ]
  },
  {
   "cell_type": "code",
   "execution_count": 4,
   "id": "72e401b5",
   "metadata": {
    "slideshow": {
     "slide_type": "-"
    }
   },
   "outputs": [
    {
     "data": {
      "text/plain": [
       "array([ True,  True, False,  True,  True, False])"
      ]
     },
     "execution_count": 4,
     "metadata": {},
     "output_type": "execute_result"
    }
   ],
   "source": [
    "true_labels = np.array([1, 0, 0, 1, 0, 0])\n",
    "predicted_labels = np.array([1, 0, 1, 1, 0, 1])\n",
    "correct_response = true_labels == predicted_labels\n",
    "correct_response"
   ]
  },
  {
   "cell_type": "code",
   "execution_count": 5,
   "id": "d2770c4d",
   "metadata": {
    "slideshow": {
     "slide_type": "-"
    }
   },
   "outputs": [
    {
     "data": {
      "text/plain": [
       "0.6666666666666666"
      ]
     },
     "execution_count": 5,
     "metadata": {},
     "output_type": "execute_result"
    }
   ],
   "source": [
    "### Accuracy\n",
    "correct_response.mean()"
   ]
  },
  {
   "cell_type": "markdown",
   "id": "19e9f6ed",
   "metadata": {
    "slideshow": {
     "slide_type": "slide"
    }
   },
   "source": [
    "#### Using `accuracy_score`\n",
    "\n",
    "The `accuracy_score` function in `sklearn` will do this for you."
   ]
  },
  {
   "cell_type": "code",
   "execution_count": 6,
   "id": "906098f8",
   "metadata": {},
   "outputs": [],
   "source": [
    "from sklearn.metrics import accuracy_score"
   ]
  },
  {
   "cell_type": "code",
   "execution_count": 7,
   "id": "da1128a8",
   "metadata": {},
   "outputs": [
    {
     "data": {
      "text/plain": [
       "0.6666666666666666"
      ]
     },
     "execution_count": 7,
     "metadata": {},
     "output_type": "execute_result"
    }
   ],
   "source": [
    "accuracy_score(true_labels, predicted_labels)"
   ]
  },
  {
   "cell_type": "markdown",
   "id": "d7060864",
   "metadata": {
    "slideshow": {
     "slide_type": "slide"
    }
   },
   "source": [
    "#### But where do the predictions come from?\n",
    "\n",
    "Many models, such as logistic regression, produce a **probability** of the outcome, i.e., $p(spam)$. \n",
    "\n",
    "How would you convert $p(spam)$ to an actual **prediction**, i.e., `spam` vs. `not spam`?\n",
    "\n",
    "- This requires **thresholding** your probability score at a certain value of $p$.  \n",
    "   - If $p_i > t$: `spam`.  \n",
    "   - If $p_i ≤ t$: `not spam`."
   ]
  },
  {
   "cell_type": "markdown",
   "id": "fcecfa78",
   "metadata": {
    "slideshow": {
     "slide_type": "slide"
    }
   },
   "source": [
    "#### Naive approach: threshold at $p = .5$\n",
    "\n",
    "A naive approach is to create a **threshold** at $p = .5$."
   ]
  },
  {
   "cell_type": "code",
   "execution_count": 8,
   "id": "99ef0115",
   "metadata": {
    "slideshow": {
     "slide_type": "-"
    }
   },
   "outputs": [
    {
     "data": {
      "text/plain": [
       "array([1, 0, 1, 1, 0, 1])"
      ]
     },
     "execution_count": 8,
     "metadata": {},
     "output_type": "execute_result"
    }
   ],
   "source": [
    "predicted_probability = np.array([.6, .2, .7, .7, .4, .55])\n",
    "predicted_labels = (predicted_probability > .5).astype(int)\n",
    "predicted_labels"
   ]
  },
  {
   "cell_type": "code",
   "execution_count": 9,
   "id": "6d25cdf6",
   "metadata": {
    "slideshow": {
     "slide_type": "-"
    }
   },
   "outputs": [
    {
     "data": {
      "text/plain": [
       "0.6666666666666666"
      ]
     },
     "execution_count": 9,
     "metadata": {},
     "output_type": "execute_result"
    }
   ],
   "source": [
    "accuracy_score(predicted_labels, true_labels)"
   ]
  },
  {
   "cell_type": "markdown",
   "id": "6c2a7ece",
   "metadata": {
    "slideshow": {
     "slide_type": "slide"
    }
   },
   "source": [
    "#### Check-in\n",
    "\n",
    "Can anyone think of any potential issues with this naive threshold of $p_t = .5$?"
   ]
  },
  {
   "cell_type": "markdown",
   "id": "c7025566",
   "metadata": {
    "slideshow": {
     "slide_type": "slide"
    }
   },
   "source": [
    "#### The importance of thresholding\n",
    "\n",
    "Depending on the **base rate** of $Y$ in your dataset, $p_t = .5$ might generate either:\n",
    "\n",
    "- Too many false positives.  \n",
    "- Too many false negatives."
   ]
  },
  {
   "cell_type": "markdown",
   "id": "6755c02b",
   "metadata": {
    "slideshow": {
     "slide_type": "slide"
    }
   },
   "source": [
    "#### Thresholding in practice (pt. 1)\n",
    "\n",
    "What do we notice about the **distribution** of predicted probabilities from our model predicting `spam`?"
   ]
  },
  {
   "cell_type": "code",
   "execution_count": 10,
   "id": "216a03ef",
   "metadata": {
    "slideshow": {
     "slide_type": "-"
    }
   },
   "outputs": [
    {
     "name": "stdout",
     "output_type": "stream",
     "text": [
      "Optimization terminated successfully.\n",
      "         Current function value: 0.271057\n",
      "         Iterations 9\n"
     ]
    },
    {
     "data": {
      "text/plain": [
       "<matplotlib.lines.Line2D at 0x13fd50090>"
      ]
     },
     "execution_count": 10,
     "metadata": {},
     "output_type": "execute_result"
    },
    {
     "data": {
      "image/png": "[encoded data removed]",
      "text/plain": [
       "<Figure size 640x480 with 1 Axes>"
      ]
     },
     "metadata": {
      "image/png": {
       "height": 413,
       "width": 580
      }
     },
     "output_type": "display_data"
    }
   ],
   "source": [
    "## Fit a model\n",
    "mod_spam = smf.logit(data = df_spam, formula = \"spam ~ winner + num_char + re_subj\").fit()\n",
    "## Get predictions\n",
    "y_pred = mod_spam.predict()\n",
    "## Visualize predicted probabilities\n",
    "sns.histplot(x = y_pred, alpha = .5)\n",
    "plt.axvline(x = .5, linestyle = \"dotted\")"
   ]
  },
  {
   "cell_type": "markdown",
   "id": "f2e40199",
   "metadata": {
    "slideshow": {
     "slide_type": "slide"
    }
   },
   "source": [
    "#### Thresholding in practice (pt. 2)\n",
    "\n",
    "- If we use $p_t = .5$, then we classify very few instances as `spam`.\n",
    "- Though because `spam` is relatively rare, we actuall have decently high accuracy..."
   ]
  },
  {
   "cell_type": "code",
   "execution_count": 11,
   "id": "43d39e02",
   "metadata": {
    "slideshow": {
     "slide_type": "-"
    }
   },
   "outputs": [
    {
     "name": "stdout",
     "output_type": "stream",
     "text": [
      "Proportion classified as spam: 0.0048\n",
      "Proportion actual spam: 0.0936\n",
      "Accuracy: 0.91\n"
     ]
    }
   ],
   "source": [
    "labels_t5 = y_pred > .5\n",
    "print(\"Proportion classified as spam: {x}\".format(x = round(labels_t5.mean(), 4)))\n",
    "print(\"Proportion actual spam: {x}\".format(x = round(df_spam['spam'].mean(), 4)))\n",
    "print(\"Accuracy: {x}\".format(x = round(accuracy_score(labels_t5, df_spam['spam']), 2)))"
   ]
  },
  {
   "cell_type": "markdown",
   "id": "b477280b",
   "metadata": {
    "slideshow": {
     "slide_type": "slide"
    }
   },
   "source": [
    "#### Thresholding in practice (pt. 3)\n",
    "\n",
    "- We can also test out different **thresholds** to see how accuracy scales with $p_t$.\n",
    "- **Note**: keep in mind that it also matters **how** the model is going wrong..."
   ]
  },
  {
   "cell_type": "code",
   "execution_count": 12,
   "id": "2439c2cc",
   "metadata": {
    "slideshow": {
     "slide_type": "-"
    }
   },
   "outputs": [],
   "source": [
    "results = []\n",
    "for t in np.arange(0, 1, .01):\n",
    "    labels = y_pred > t\n",
    "    accuracy = accuracy_score(labels, df_spam['spam'])\n",
    "    results.append({'accuracy': accuracy, 't': t, 'pred_spam': labels.mean()})"
   ]
  },
  {
   "cell_type": "code",
   "execution_count": 13,
   "id": "11ea00eb",
   "metadata": {
    "slideshow": {
     "slide_type": "-"
    }
   },
   "outputs": [
    {
     "data": {
      "text/plain": [
       "<Axes: xlabel='t', ylabel='accuracy'>"
      ]
     },
     "execution_count": 13,
     "metadata": {},
     "output_type": "execute_result"
    },
    {
     "data": {
      "image/png": "[encoded data removed]",
      "text/plain": [
       "<Figure size 640x480 with 1 Axes>"
      ]
     },
     "metadata": {
      "image/png": {
       "height": 432,
       "width": 567
      }
     },
     "output_type": "display_data"
    }
   ],
   "source": [
    "df_results = pd.DataFrame(results)\n",
    "sns.lineplot(data = df_results, x = \"t\", y = \"accuracy\", label = \"Accuracy\")\n",
    "sns.lineplot(data = df_results, x = \"t\", y = \"pred_spam\", label = \"Predicted Spam\")"
   ]
  },
  {
   "cell_type": "markdown",
   "id": "a7e8a463",
   "metadata": {
    "slideshow": {
     "slide_type": "slide"
    }
   },
   "source": [
    "#### Check-in\n",
    "\n",
    "Relating to thresholding: are there any issues with just naively using accuracy?"
   ]
  },
  {
   "cell_type": "markdown",
   "id": "2bd0b4cb",
   "metadata": {
    "slideshow": {
     "slide_type": "slide"
    }
   },
   "source": [
    "#### The problem of \"naive accuracy\"\n",
    "\n",
    "Depending on the **base rate** of $Y$, *very high accuracy* could be achieved by simply always guessing the same thing.\n",
    "\n",
    "- If fraud is very rare ($p(Y) = .01$), then always guessing `not fraud` will yield $99\\%$ accuracy.  \n",
    "- However, it also means you'd **miss** every real instance of `fraud`.\n",
    "\n",
    "This raises the issue of [Type 1 vs. Type 2 errors](https://en.wikipedia.org/wiki/Type_I_and_type_II_errors)."
   ]
  },
  {
   "cell_type": "markdown",
   "id": "8c7aad5a",
   "metadata": {
    "slideshow": {
     "slide_type": "slide"
    }
   },
   "source": [
    "### Type 1 vs. Type 2 Errors\n",
    "\n",
    "Models can be [wrong in *different ways*](https://en.wikipedia.org/wiki/Type_I_and_type_II_errors).\n",
    "\n",
    "- A **Type 1 Error** is *incorrectly rejecting the null hypothesis*, i.e., a **false positive**.  \n",
    "- A **Type 2 Error** is *incorrectly failing to reject the null hypothesis*, i.e., a **false negative**.\n",
    "\n",
    "| |predicted label = `not spam`|predicted label = `spam`|\n",
    "|--|-----------------------|-------------------\n",
    "|true label = `not spam`| Correct (True Negative) | False Positive |\n",
    "|true label = `spam` | False Negative | Correct (True Positive) |"
   ]
  },
  {
   "cell_type": "markdown",
   "id": "30978ece",
   "metadata": {
    "slideshow": {
     "slide_type": "slide"
    }
   },
   "source": [
    "#### Review: Different errors have different *costs*\n",
    "\n",
    "![title](img/bias_northpointe.png)\n",
    "\n",
    "[Source: Propublica](https://www.propublica.org/article/machine-bias-risk-assessments-in-criminal-sentencing)\n"
   ]
  },
  {
   "cell_type": "markdown",
   "id": "0a2c43db",
   "metadata": {
    "slideshow": {
     "slide_type": "slide"
    }
   },
   "source": [
    "#### Calculating the *false positive rate*\n",
    "\n",
    "> The **false positive rate** is the proportion of *negative classes* (e.g., `not spam`) incorrectly categorized as a *positive class* (e.g., `spam`).\n",
    "\n",
    "$FPR = \\frac{FP}{N}$\n",
    "\n",
    "Where:\n",
    "\n",
    "- $FP$: The number of false positives.  \n",
    "- $N$: The number of *negative* classes."
   ]
  },
  {
   "cell_type": "markdown",
   "id": "fb8136a3",
   "metadata": {
    "slideshow": {
     "slide_type": "slide"
    }
   },
   "source": [
    "##### Demo: FPR"
   ]
  },
  {
   "cell_type": "code",
   "execution_count": 14,
   "id": "a5c8acb4",
   "metadata": {
    "slideshow": {
     "slide_type": "-"
    }
   },
   "outputs": [],
   "source": [
    "## Demo: true data\n",
    "true_labels = np.array([1, 0, 0, 1, 0, 0])\n",
    "## Demo: predicted labels\n",
    "predicted_labels = np.array([1, 0, 1, 1, 0, 1])"
   ]
  },
  {
   "cell_type": "code",
   "execution_count": 15,
   "id": "0c16ddb8",
   "metadata": {
    "slideshow": {
     "slide_type": "-"
    }
   },
   "outputs": [],
   "source": [
    "## Number of true negatives\n",
    "N = len(true_labels[true_labels==0])\n",
    "## Number of FP\n",
    "FP = len(predicted_labels[(predicted_labels==1) & (true_labels == 0)])"
   ]
  },
  {
   "cell_type": "code",
   "execution_count": 16,
   "id": "a5eb1b5d",
   "metadata": {},
   "outputs": [
    {
     "data": {
      "text/plain": [
       "0.5"
      ]
     },
     "execution_count": 16,
     "metadata": {},
     "output_type": "execute_result"
    }
   ],
   "source": [
    "## FP Rate\n",
    "FP / N"
   ]
  },
  {
   "cell_type": "markdown",
   "id": "61e656f4",
   "metadata": {
    "slideshow": {
     "slide_type": "slide"
    }
   },
   "source": [
    "#### Calculating the *false negative rate*\n",
    "\n",
    "> The **false negative rate** is the proportion of *positive classes* (e.g., `spam`) incorrectly categorized as a *negative class* (e.g., `not spam`).\n",
    "\n",
    "$FNR = \\frac{FN}{P}$\n",
    "\n",
    "Where:\n",
    "\n",
    "- $FN$: The number of false negatives.  \n",
    "- $P$: The number of *positive* classes."
   ]
  },
  {
   "cell_type": "markdown",
   "id": "827cc098",
   "metadata": {
    "slideshow": {
     "slide_type": "slide"
    }
   },
   "source": [
    "##### Demo: FNR"
   ]
  },
  {
   "cell_type": "code",
   "execution_count": 17,
   "id": "a3456899",
   "metadata": {
    "slideshow": {
     "slide_type": "-"
    }
   },
   "outputs": [],
   "source": [
    "## Demo: true data\n",
    "true_labels = np.array([1, 0, 0, 1, 0, 0])\n",
    "## Demo: predicted labels\n",
    "predicted_labels = np.array([1, 0, 1, 1, 0, 1])"
   ]
  },
  {
   "cell_type": "code",
   "execution_count": 18,
   "id": "6b47dea8",
   "metadata": {
    "slideshow": {
     "slide_type": "-"
    }
   },
   "outputs": [],
   "source": [
    "## Number of true negatives\n",
    "P = len(true_labels[true_labels==1])\n",
    "## Number of FP\n",
    "FN = len(predicted_labels[(predicted_labels==0) & (true_labels == 1)])"
   ]
  },
  {
   "cell_type": "code",
   "execution_count": 19,
   "id": "f97146dd",
   "metadata": {},
   "outputs": [
    {
     "data": {
      "text/plain": [
       "0.0"
      ]
     },
     "execution_count": 19,
     "metadata": {},
     "output_type": "execute_result"
    }
   ],
   "source": [
    "## FP Rate\n",
    "FN / P"
   ]
  },
  {
   "cell_type": "markdown",
   "id": "d56fe31c",
   "metadata": {
    "slideshow": {
     "slide_type": "slide"
    }
   },
   "source": [
    "#### Coming up: confusion matrices\n",
    "\n",
    "Soon, we'll discuss how to build a **confusion matrix**, which contains information about the false positive and false negative rates, as below:\n",
    "\n",
    "| |predicted label = `not spam`|predicted label = `spam`|\n",
    "|--|-----------------------|-------------------\n",
    "|true label = `not spam`| Correct (True Negative) | False Positive |\n",
    "|true label = `spam` | False Negative | Correct (True Positive) |"
   ]
  },
  {
   "cell_type": "markdown",
   "id": "942d1d9b",
   "metadata": {
    "slideshow": {
     "slide_type": "slide"
    }
   },
   "source": [
    "### Precision vs. Recall\n",
    "\n",
    "> [**Precision** and **Recall**](https://en.wikipedia.org/wiki/Precision_and_recall) are finer-grained measures of a model's performance that account for false positives and false negatives. \n",
    "\n",
    "- **Precision**: what proportion of items classified as `spam` are actually `spam`?\n",
    "- **Recall**: what proportion of actual `spam` was successfully recognized as `spam`? \n",
    "\n",
    "\n"
   ]
  },
  {
   "cell_type": "markdown",
   "id": "61869533",
   "metadata": {
    "slideshow": {
     "slide_type": "skip"
    }
   },
   "source": [
    "![title](img/recall.png)\n",
    "\n",
    "[Image source: Wikipedia](https://en.wikipedia.org/wiki/Precision_and_recall)"
   ]
  },
  {
   "cell_type": "markdown",
   "id": "0000f96a",
   "metadata": {
    "slideshow": {
     "slide_type": "slide"
    }
   },
   "source": [
    "#### Calculating precision\n",
    "\n",
    "$Precision = \\frac{TP}{P*} = 1 - FPR$\n",
    "\n",
    "Where:\n",
    "\n",
    "- $TP$: How many true positives?  \n",
    "- $P*$: How many predicted positives?"
   ]
  },
  {
   "cell_type": "code",
   "execution_count": 20,
   "id": "4768bdbd",
   "metadata": {
    "slideshow": {
     "slide_type": "-"
    }
   },
   "outputs": [],
   "source": [
    "from sklearn.metrics import precision_score"
   ]
  },
  {
   "cell_type": "code",
   "execution_count": 21,
   "id": "bf062e52",
   "metadata": {
    "slideshow": {
     "slide_type": "-"
    }
   },
   "outputs": [
    {
     "data": {
      "text/plain": [
       "0.5"
      ]
     },
     "execution_count": 21,
     "metadata": {},
     "output_type": "execute_result"
    }
   ],
   "source": [
    "true_labels = np.array([1, 0, 0, 1, 0, 0])\n",
    "predicted_labels = np.array([1, 0, 1, 1, 0, 1])\n",
    "precision_score(true_labels, predicted_labels)"
   ]
  },
  {
   "cell_type": "markdown",
   "id": "cfe1d7eb",
   "metadata": {
    "slideshow": {
     "slide_type": "slide"
    }
   },
   "source": [
    "#### Calculating recall\n",
    "\n",
    "$Recall = \\frac{TP}{P} = 1 - FNR$\n",
    "\n",
    "Where:\n",
    "\n",
    "- $TP$: How many true positives?  \n",
    "- $P*$: How many actual positives?"
   ]
  },
  {
   "cell_type": "code",
   "execution_count": 22,
   "id": "5db486cc",
   "metadata": {
    "slideshow": {
     "slide_type": "-"
    }
   },
   "outputs": [],
   "source": [
    "from sklearn.metrics import recall_score"
   ]
  },
  {
   "cell_type": "code",
   "execution_count": 23,
   "id": "c3c2b025",
   "metadata": {
    "slideshow": {
     "slide_type": "-"
    }
   },
   "outputs": [
    {
     "data": {
      "text/plain": [
       "1.0"
      ]
     },
     "execution_count": 23,
     "metadata": {},
     "output_type": "execute_result"
    }
   ],
   "source": [
    "true_labels = np.array([1, 0, 0, 1, 0, 0])\n",
    "predicted_labels = np.array([1, 0, 1, 1, 0, 1])\n",
    "recall_score(true_labels, predicted_labels)"
   ]
  },
  {
   "cell_type": "markdown",
   "id": "9fb03d0d",
   "metadata": {
    "slideshow": {
     "slide_type": "slide"
    }
   },
   "source": [
    "### Akaike Information Criterion (AIC)\n",
    "\n",
    "> **Akaike Information Criterion (AIC)** is a measure of *model fit* that factors in both the **accuracy** of the model and the **complexity** of the model.\n",
    "\n",
    "$AIC = 2k - 2*log(\\mathcal{L})$\n",
    "\n",
    "Where:\n",
    "\n",
    "- $k$: number of parameters (predictors) in the model.  \n",
    "- $\\mathcal{L}$: the **likelihood** of the model."
   ]
  },
  {
   "cell_type": "markdown",
   "id": "a1279aff",
   "metadata": {
    "slideshow": {
     "slide_type": "slide"
    }
   },
   "source": [
    "#### What is \"likelihood\"?\n",
    "\n",
    "> The **likelihood** of a model is a measure of the *probability* of the data, given the model.\n",
    "\n",
    "- Recall that a model $M$ is a model of the **data-generating process**.  \n",
    "- Likelihood is a way of asking:\n",
    "   - If $M$ generated predictions $\\hat{Y}$ from input $X$...\n",
    "   - ...How *similar* are these predictions to the actual data, $Y$}?\n",
    "   \n",
    "What does this remind you of?"
   ]
  },
  {
   "cell_type": "markdown",
   "id": "163b1239",
   "metadata": {
    "slideshow": {
     "slide_type": "slide"
    }
   },
   "source": [
    "#### Likelihood vs. $RSS$\n",
    "\n",
    "The **residual sum of squares** ($RSS$) measures:\n",
    "\n",
    "$RSS = \\sum_i^N{(y_i - \\hat{y}_i)^2}$\n",
    "\n",
    "**Likelihood** is technically a *generalization* of this approach:\n",
    "\n",
    "$\\mathcal{L(X | \\theta)} = \\prod_i^Np(y_i | \\theta)$\n",
    "\n",
    "Where:\n",
    "\n",
    "- $\\theta$: the parameters $\\beta_0, \\beta_1, ..., \\beta_n$.  \n",
    "- $p(y_i | \\theta)$: the probability of an actual observation, $y_i$, given the model parameters $\\theta$."
   ]
  },
  {
   "cell_type": "markdown",
   "id": "cdd74385",
   "metadata": {
    "slideshow": {
     "slide_type": "slide"
    }
   },
   "source": [
    "#### Extracting and interpreting AIC\n",
    "\n",
    "- The actual $AIC$ number won't mean much, as it depends on the variance in the data, $N$, and more (similar to $MSE$).\n",
    "- $AIC$ is primarily useful for comparing different models. \n",
    "- A **lower** $AIC$ is better."
   ]
  },
  {
   "cell_type": "code",
   "execution_count": 24,
   "id": "f03790c6",
   "metadata": {
    "slideshow": {
     "slide_type": "-"
    }
   },
   "outputs": [
    {
     "name": "stdout",
     "output_type": "stream",
     "text": [
      "Optimization terminated successfully.\n",
      "         Current function value: 0.299210\n",
      "         Iterations 8\n",
      "Optimization terminated successfully.\n",
      "         Current function value: 0.307661\n",
      "         Iterations 6\n"
     ]
    }
   ],
   "source": [
    "m1 = smf.logit(data = df_spam, formula = \"spam ~ num_char\").fit()\n",
    "m2 = smf.logit(data = df_spam, formula = \"spam ~ winner\").fit()"
   ]
  },
  {
   "cell_type": "code",
   "execution_count": 25,
   "id": "fe0cf476",
   "metadata": {
    "slideshow": {
     "slide_type": "-"
    }
   },
   "outputs": [
    {
     "name": "stdout",
     "output_type": "stream",
     "text": [
      "2350.4011465188078\n",
      "2416.674224729642\n"
     ]
    }
   ],
   "source": [
    "print(m1.aic)\n",
    "print(m2.aic)"
   ]
  },
  {
   "cell_type": "markdown",
   "id": "9699c92d",
   "metadata": {
    "slideshow": {
     "slide_type": "slide"
    }
   },
   "source": [
    "#### $AIC$ in practice\n",
    "\n",
    "Typically, $AIC$ is **rescaled** by subtracting the $AIC$ of the best model (i.e., the lowest $AIC$ value) from each of the $AIC$ values in question.\n",
    "\n",
    "- Thus, the *best* model has a rescaled $AIC$ of `0`.\n",
    "- The rescaled $AIC$ value reflects the **difference** from the best model."
   ]
  },
  {
   "cell_type": "code",
   "execution_count": 26,
   "id": "fb763c10",
   "metadata": {
    "slideshow": {
     "slide_type": "-"
    }
   },
   "outputs": [
    {
     "data": {
      "text/plain": [
       "array([ 0.        , 66.27307821])"
      ]
     },
     "execution_count": 26,
     "metadata": {},
     "output_type": "execute_result"
    }
   ],
   "source": [
    "rescaled = np.array([m1.aic, m2.aic]) - m1.aic\n",
    "rescaled"
   ]
  },
  {
   "cell_type": "markdown",
   "id": "8f044f4e",
   "metadata": {
    "slideshow": {
     "slide_type": "slide"
    }
   },
   "source": [
    "## Evaluating models with *visualizations*\n",
    "\n",
    "Beyond **metrics**, we can evaluate models by making visualizations about their predictive success. We'll focus on:\n",
    "\n",
    "- Confusion matrix.  \n",
    "- ROC Curve."
   ]
  },
  {
   "cell_type": "markdown",
   "id": "916bccae",
   "metadata": {
    "slideshow": {
     "slide_type": "slide"
    }
   },
   "source": [
    "### Confusion matrix\n",
    "\n",
    "> A **confusion matrix** compares a model's predictions to actual values of $Y$, allowing a viewer to determine which classes were most frequently \"confused\" (i.e., where the **error rate** was highest).\n",
    "\n",
    "\n",
    "| |predicted label = `not spam`|predicted label = `spam`|\n",
    "|--|-----------------------|-------------------\n",
    "|true label = `not spam`| Correct (True Negative) | False Positive |\n",
    "|true label = `spam` | False Negative | Correct (True Positive) |"
   ]
  },
  {
   "cell_type": "markdown",
   "id": "0147b382",
   "metadata": {
    "slideshow": {
     "slide_type": "slide"
    }
   },
   "source": [
    "#### Confusion matrix in practice\n",
    "\n",
    "`sklearn` has a `confusion_matrix` function, which takes as input the true labels (`y_true`) and the predicted labels (`y_pred`).\n",
    "\n",
    "To interpret the output:\n",
    "\n",
    "- The **rows** refer to the *real labels* of $Y$.  \n",
    "- The **columns** refer to the *predicted labels*, $\\hat{Y}$.\n",
    "- The **diagonal** of the matrix are the correct responses.\n",
    "   - Ideally, all other cells should be *zero*: no errors.\n",
    "- Each **cell** thus refers to the intersection:\n",
    "   - How many times did we predict `0` when it was actually a `1`?\n",
    "   - How many times did we predict `1` when it was actually a `0`?"
   ]
  },
  {
   "cell_type": "markdown",
   "id": "e0f61b03",
   "metadata": {
    "slideshow": {
     "slide_type": "slide"
    }
   },
   "source": [
    "#### Check-in\n",
    "\n",
    "Based on this confusion matrix, what is the number of:\n",
    "\n",
    "- True positives?  \n",
    "- False positives? \n",
    "- True negatives?  \n",
    "- False negatives?"
   ]
  },
  {
   "cell_type": "code",
   "execution_count": 27,
   "id": "9eefb2bf",
   "metadata": {
    "slideshow": {
     "slide_type": "-"
    }
   },
   "outputs": [],
   "source": [
    "from sklearn.metrics import confusion_matrix"
   ]
  },
  {
   "cell_type": "code",
   "execution_count": 28,
   "id": "74909ec3",
   "metadata": {
    "slideshow": {
     "slide_type": "-"
    }
   },
   "outputs": [
    {
     "data": {
      "text/plain": [
       "array([[2, 2],\n",
       "       [0, 2]])"
      ]
     },
     "execution_count": 28,
     "metadata": {},
     "output_type": "execute_result"
    }
   ],
   "source": [
    "cm = confusion_matrix(true_labels, predicted_labels)\n",
    "cm"
   ]
  },
  {
   "cell_type": "markdown",
   "id": "995e29ac",
   "metadata": {
    "slideshow": {
     "slide_type": "slide"
    }
   },
   "source": [
    "#### Normalizing our output\n",
    "\n",
    "We can also **normalize** the output using the `normalize = 'true'` parameter.\n",
    "\n",
    "Based on this confusion matrix, what is our **false positive rate**? What about our **false negative rate**?"
   ]
  },
  {
   "cell_type": "code",
   "execution_count": 29,
   "id": "78ea6575",
   "metadata": {
    "slideshow": {
     "slide_type": "-"
    }
   },
   "outputs": [
    {
     "data": {
      "text/plain": [
       "array([[0.5, 0.5],\n",
       "       [0. , 1. ]])"
      ]
     },
     "execution_count": 29,
     "metadata": {},
     "output_type": "execute_result"
    }
   ],
   "source": [
    "cm = confusion_matrix(true_labels, predicted_labels, normalize = 'true')\n",
    "cm"
   ]
  },
  {
   "cell_type": "markdown",
   "id": "7c7275d6",
   "metadata": {
    "slideshow": {
     "slide_type": "slide"
    }
   },
   "source": [
    "#### Visualizing with `seaborn`\n",
    "\n",
    "We can use `seaborn.heatmap` to visualize the output of a confusion matrix."
   ]
  },
  {
   "cell_type": "code",
   "execution_count": 30,
   "id": "6dfbfb2c",
   "metadata": {
    "slideshow": {
     "slide_type": "-"
    }
   },
   "outputs": [
    {
     "data": {
      "text/plain": [
       "<Axes: >"
      ]
     },
     "execution_count": 30,
     "metadata": {},
     "output_type": "execute_result"
    },
    {
     "data": {
      "image/png": "[encoded data removed]",
      "text/plain": [
       "<Figure size 640x480 with 2 Axes>"
      ]
     },
     "metadata": {
      "image/png": {
       "height": 418,
       "width": 515
      }
     },
     "output_type": "display_data"
    }
   ],
   "source": [
    "sns.heatmap(cm, annot = True)"
   ]
  },
  {
   "cell_type": "markdown",
   "id": "768c5d6c",
   "metadata": {
    "slideshow": {
     "slide_type": "slide"
    }
   },
   "source": [
    "### ROC Curve\n",
    "\n",
    "> A **Receiver Operating Characteristic (ROC) Curve** illustrates the ability of a binary classifier to discriminate between classes as its **threshold** ($p_t$) is adjusted.\n",
    "\n",
    "- x-axis: false positive rate for a given threshold.  \n",
    "- y-axis: true positive rate for a given threshold.\n",
    "\n",
    "![title](img/roc.png)\n"
   ]
  },
  {
   "cell_type": "markdown",
   "id": "b274118b",
   "metadata": {
    "slideshow": {
     "slide_type": "slide"
    }
   },
   "source": [
    "#### Check-in\n",
    "\n",
    "If $p_t = 0$ (i.e., everything with $p_i ≥ 0$ is labeled `spam`), what should our **false positive rate** and **true positive rate** be?"
   ]
  },
  {
   "cell_type": "markdown",
   "id": "837b82dc",
   "metadata": {
    "slideshow": {
     "slide_type": "slide"
    }
   },
   "source": [
    "#### Solution\n",
    "\n",
    "When $p_t = 0$ (i.e., everything with $p_i ≥ 0$ is labeled `spam`):\n",
    "\n",
    "- Our true positive rate will be $100\\%$: we never miss an instance of `spam`. \n",
    "- Our false positive rate will also be $100\\%$: we classify every instance of `not spam` as `spam`."
   ]
  },
  {
   "cell_type": "markdown",
   "id": "538b3dcb",
   "metadata": {
    "slideshow": {
     "slide_type": "slide"
    }
   },
   "source": [
    "#### ROC Curve in practice\n",
    "\n",
    "Steps involved in building an ROC Curve:\n",
    "\n",
    "1. Fit a classifier to your data, and extract predicted probabilities $p_i$.  \n",
    "2. Consider a **range** of thresholds of $p_t$, from $[0, 1]$. \n",
    "3. For each threshold, calculate the **false positive rate (FPR)** and **true positive rate (TPR)**.  \n",
    "4. Plot `TPR ~ FPR` and compare to random performance.  \n",
    "5. (Optional) Calculate the **area under the curve** (AUC) between the classifier performance and random chance."
   ]
  },
  {
   "cell_type": "markdown",
   "id": "dd513f7d",
   "metadata": {
    "slideshow": {
     "slide_type": "slide"
    }
   },
   "source": [
    "#### Step 1: Fit a model"
   ]
  },
  {
   "cell_type": "code",
   "execution_count": 31,
   "id": "59e3bdf3",
   "metadata": {
    "slideshow": {
     "slide_type": "-"
    }
   },
   "outputs": [
    {
     "name": "stdout",
     "output_type": "stream",
     "text": [
      "Optimization terminated successfully.\n",
      "         Current function value: 0.271057\n",
      "         Iterations 9\n"
     ]
    }
   ],
   "source": [
    "model = smf.logit(data = df_spam, formula = \"spam ~ winner + num_char + re_subj\").fit()\n",
    "y_pred = model.predict()"
   ]
  },
  {
   "cell_type": "code",
   "execution_count": 32,
   "id": "e8770499",
   "metadata": {
    "slideshow": {
     "slide_type": "-"
    }
   },
   "outputs": [
    {
     "data": {
      "text/plain": [
       "Text(0.5, 0, 'Predicted p(spam)')"
      ]
     },
     "execution_count": 32,
     "metadata": {},
     "output_type": "execute_result"
    },
    {
     "data": {
      "image/png": "[encoded data removed]",
      "text/plain": [
       "<Figure size 640x480 with 1 Axes>"
      ]
     },
     "metadata": {
      "image/png": {
       "height": 432,
       "width": 560
      }
     },
     "output_type": "display_data"
    }
   ],
   "source": [
    "p = plt.hist(y_pred,alpha = .5)\n",
    "plt.xlabel(\"Predicted p(spam)\")"
   ]
  },
  {
   "cell_type": "markdown",
   "id": "7c948b67",
   "metadata": {
    "slideshow": {
     "slide_type": "slide"
    }
   },
   "source": [
    "#### Step 2: Consider a range of thresholds"
   ]
  },
  {
   "cell_type": "code",
   "execution_count": 33,
   "id": "875267d0",
   "metadata": {
    "slideshow": {
     "slide_type": "-"
    }
   },
   "outputs": [],
   "source": [
    "thresholds = np.arange(0, 1, .01)\n",
    "true_labels = df_spam['spam']"
   ]
  },
  {
   "cell_type": "markdown",
   "id": "a7dfac83",
   "metadata": {
    "slideshow": {
     "slide_type": "slide"
    }
   },
   "source": [
    "#### Step 3: Calculate FPR and TPR"
   ]
  },
  {
   "cell_type": "code",
   "execution_count": 34,
   "id": "63ae4dc0",
   "metadata": {
    "slideshow": {
     "slide_type": "-"
    }
   },
   "outputs": [],
   "source": [
    "results = []\n",
    "for t in thresholds:\n",
    "    predicted_labels = y_pred > t\n",
    "    \n",
    "    ## Calculate confusion matrix\n",
    "    cm = confusion_matrix(true_labels, predicted_labels, normalize = 'true')\n",
    "    \n",
    "    ## Extract FPR and TPR\n",
    "    fpr = cm[0, 1]\n",
    "    tpr = cm[1, 1]\n",
    "    \n",
    "    results.append({'tpr': tpr, 'fpr': fpr})"
   ]
  },
  {
   "cell_type": "markdown",
   "id": "16d32a31",
   "metadata": {
    "slideshow": {
     "slide_type": "slide"
    }
   },
   "source": [
    "#### Step 4: Visualize"
   ]
  },
  {
   "cell_type": "code",
   "execution_count": 35,
   "id": "e3ebb70f",
   "metadata": {
    "slideshow": {
     "slide_type": "-"
    }
   },
   "outputs": [
    {
     "data": {
      "text/plain": [
       "<Axes: xlabel='fpr', ylabel='tpr'>"
      ]
     },
     "execution_count": 35,
     "metadata": {},
     "output_type": "execute_result"
    },
    {
     "data": {
      "image/png": "[encoded data removed]",
      "text/plain": [
       "<Figure size 640x480 with 1 Axes>"
      ]
     },
     "metadata": {
      "image/png": {
       "height": 432,
       "width": 567
      }
     },
     "output_type": "display_data"
    }
   ],
   "source": [
    "df_results = pd.DataFrame(results)\n",
    "sns.lineplot(data = df_results, x = \"fpr\", y = \"tpr\")\n",
    "sns.lineplot(data = df_results, x = \"fpr\", y = \"fpr\", linestyle = \"dotted\", color = \"red\")"
   ]
  },
  {
   "cell_type": "markdown",
   "id": "073f1ee5",
   "metadata": {
    "slideshow": {
     "slide_type": "slide"
    }
   },
   "source": [
    "#### Why ROC curve is useful\n",
    "\n",
    "In principle, we can plot the ROC curve for **multiple models**.  \n",
    "\n",
    "- This gives us a clear way to visualize the relative rate of **false positives** and **true positives** for different models.  \n",
    "- Depending on whether we're worried more about FPR or TPR, this may help us decide which model is best."
   ]
  },
  {
   "cell_type": "markdown",
   "id": "73aa9c83",
   "metadata": {
    "slideshow": {
     "slide_type": "slide"
    }
   },
   "source": [
    "#### `roc_curve` in `sklearn`\n",
    "\n",
    "We can also use the `roc_curve` function in `sklearn` to build an **ROC Curve** much more easily!\n",
    "\n",
    "```python\n",
    "roc_curve(y_true, y_score)\n",
    "```\n",
    "\n",
    "This returns the `fpr`, `tpr`, and `thresholds` used."
   ]
  },
  {
   "cell_type": "code",
   "execution_count": 36,
   "id": "333835d4",
   "metadata": {
    "slideshow": {
     "slide_type": "-"
    }
   },
   "outputs": [],
   "source": [
    "from sklearn.metrics import roc_curve"
   ]
  },
  {
   "cell_type": "code",
   "execution_count": 37,
   "id": "c8a5bfbb",
   "metadata": {
    "slideshow": {
     "slide_type": "-"
    }
   },
   "outputs": [
    {
     "data": {
      "text/plain": [
       "<Axes: >"
      ]
     },
     "execution_count": 37,
     "metadata": {},
     "output_type": "execute_result"
    },
    {
     "data": {
      "image/png": "[encoded data removed]",
      "text/plain": [
       "<Figure size 640x480 with 1 Axes>"
      ]
     },
     "metadata": {
      "image/png": {
       "height": 413,
       "width": 547
      }
     },
     "output_type": "display_data"
    }
   ],
   "source": [
    "fpr, tpr, thresholds = roc_curve(true_labels, y_pred)\n",
    "sns.lineplot(x = fpr, y = tpr)\n",
    "sns.lineplot(x = fpr, y = fpr, linestyle = \"dotted\")"
   ]
  },
  {
   "cell_type": "markdown",
   "id": "33dbab78",
   "metadata": {
    "slideshow": {
     "slide_type": "slide"
    }
   },
   "source": [
    "## Conclusion\n",
    "\n",
    "- Once we've built a statistical model, we need to **evaluate** it.  \n",
    "- There are many approaches to evaluating models, but we've discussed a few:\n",
    "   - Using **metrics** like accuracy, precision/recall, and $AIC$.\n",
    "   - Using **visualization techniques** like a confusion matrix and ROC Curve."
   ]
  }
 ],
 "metadata": {
  "celltoolbar": "Slideshow",
  "kernelspec": {
   "display_name": "Python 3 (ipykernel)",
   "language": "python",
   "name": "python3"
  },
  "language_info": {
   "codemirror_mode": {
    "name": "ipython",
    "version": 3
   },
   "file_extension": ".py",
   "mimetype": "text/x-python",
   "name": "python",
   "nbconvert_exporter": "python",
   "pygments_lexer": "ipython3",
   "version": "3.11.0"
  }
 },
 "nbformat": 4,
 "nbformat_minor": 5
}