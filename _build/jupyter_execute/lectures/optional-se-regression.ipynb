{
 "cells": [
  {
   "cell_type": "markdown",
   "id": "cb607fdd",
   "metadata": {},
   "source": [
    "# Calculating the *standard error* of our coefficients"
   ]
  },
  {
   "cell_type": "markdown",
   "id": "2df8dfca",
   "metadata": {},
   "source": [
    "**Very important**:\n",
    "\n",
    "The correct formula for calculating standard error of our coefficient is:\n",
    "\n",
    "$\\Large SE(\\beta_1) = \\frac{S_{Y|X}}{\\sqrt{SS_X}} = \\sqrt{\\frac{\\frac{1}{n-2}RSS}{SS_X}}$"
   ]
  },
  {
   "cell_type": "code",
   "execution_count": 1,
   "id": "2d4c02a1",
   "metadata": {},
   "outputs": [
    {
     "ename": "NameError",
     "evalue": "name 'np' is not defined",
     "output_type": "error",
     "traceback": [
      "\u001b[0;31m---------------------------------------------------------------------------\u001b[0m",
      "\u001b[0;31mNameError\u001b[0m                                 Traceback (most recent call last)",
      "Cell \u001b[0;32mIn[1], line 1\u001b[0m\n\u001b[0;32m----> 1\u001b[0m np\u001b[38;5;241m.\u001b[39msqrt(mod\u001b[38;5;241m.\u001b[39mscale) \u001b[38;5;241m/\u001b[39m np\u001b[38;5;241m.\u001b[39msqrt(ss_x)\n",
      "\u001b[0;31mNameError\u001b[0m: name 'np' is not defined"
     ]
    }
   ],
   "source": [
    "np.sqrt(mod.scale) / np.sqrt(ss_x)"
   ]
  },
  {
   "cell_type": "code",
   "execution_count": null,
   "id": "951a0134",
   "metadata": {},
   "outputs": [],
   "source": []
  }
 ],
 "metadata": {
  "kernelspec": {
   "display_name": "Python 3 (ipykernel)",
   "language": "python",
   "name": "python3"
  },
  "language_info": {
   "codemirror_mode": {
    "name": "ipython",
    "version": 3
   },
   "file_extension": ".py",
   "mimetype": "text/x-python",
   "name": "python",
   "nbconvert_exporter": "python",
   "pygments_lexer": "ipython3",
   "version": "3.11.0"
  }
 },
 "nbformat": 4,
 "nbformat_minor": 5
}