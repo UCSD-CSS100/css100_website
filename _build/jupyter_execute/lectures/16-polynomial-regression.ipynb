{
 "cells": [
  {
   "cell_type": "markdown",
   "id": "565fd595",
   "metadata": {
    "slideshow": {
     "slide_type": "slide"
    }
   },
   "source": [
    "# Polynomial regression"
   ]
  },
  {
   "cell_type": "markdown",
   "id": "0e698b4b",
   "metadata": {
    "slideshow": {
     "slide_type": "slide"
    }
   },
   "source": [
    "## Goals of this lecture\n",
    " \n",
    "- Non-linear relationships: why do we care?  \n",
    "- Accommodating non-linear relationships in the **linear regression equation**.  \n",
    "- Challenges with polynomial regression:\n",
    "   - Over-fitting.  \n",
    "   - Bias-variance trade-off."
   ]
  },
  {
   "cell_type": "code",
   "execution_count": null,
   "id": "15c4407c",
   "metadata": {},
   "outputs": [],
   "source": []
  },
  {
   "cell_type": "code",
   "execution_count": null,
   "id": "ba236f07",
   "metadata": {},
   "outputs": [],
   "source": []
  },
  {
   "cell_type": "code",
   "execution_count": 1,
   "id": "2b2ce2cd",
   "metadata": {
    "slideshow": {
     "slide_type": "-"
    }
   },
   "outputs": [
    {
     "ename": "NameError",
     "evalue": "name 'smf' is not defined",
     "output_type": "error",
     "traceback": [
      "\u001b[0;31m---------------------------------------------------------------------------\u001b[0m",
      "\u001b[0;31mNameError\u001b[0m                                 Traceback (most recent call last)",
      "Input \u001b[0;32mIn [1]\u001b[0m, in \u001b[0;36m<cell line: 1>\u001b[0;34m()\u001b[0m\n\u001b[0;32m----> 1\u001b[0m mod_poly \u001b[38;5;241m=\u001b[39m \u001b[43msmf\u001b[49m\u001b[38;5;241m.\u001b[39mols(data \u001b[38;5;241m=\u001b[39m df_housing,\n\u001b[1;32m      2\u001b[0m                      formula \u001b[38;5;241m=\u001b[39m \u001b[38;5;124m\"\u001b[39m\u001b[38;5;124mmedian_house_value ~ housing_median_age + I(housing_median_age**2) + I(housing_median_age**3)\u001b[39m\u001b[38;5;124m\"\u001b[39m)\u001b[38;5;241m.\u001b[39mfit()\n",
      "\u001b[0;31mNameError\u001b[0m: name 'smf' is not defined"
     ]
    }
   ],
   "source": [
    "mod_poly = smf.ols(data = df_housing,\n",
    "                     formula = \"median_house_value ~ housing_median_age + I(housing_median_age**2) + I(housing_median_age**3)\").fit()"
   ]
  },
  {
   "cell_type": "code",
   "execution_count": 1,
   "id": "c957758f",
   "metadata": {},
   "outputs": [],
   "source": [
    "### Explanation: https://stackoverflow.com/questions/32484244/reciprocals-in-patsy/36539093#36539093"
   ]
  },
  {
   "cell_type": "markdown",
   "id": "eacbb9b6",
   "metadata": {
    "slideshow": {
     "slide_type": "slide"
    }
   },
   "source": [
    "See chapter 7 of ISLR."
   ]
  },
  {
   "cell_type": "markdown",
   "id": "f70e26ac",
   "metadata": {
    "slideshow": {
     "slide_type": "slide"
    }
   },
   "source": [
    "Other problems (ISLR, pg. 93):\n",
    "\n",
    "1. Non-linearity\n",
    "2. Correlation of error terms\n",
    "3. Heteroscedasticity\n",
    "4. Outliers\n",
    "5. High-leverage points\n",
    "6. Collinearity"
   ]
  },
  {
   "cell_type": "code",
   "execution_count": null,
   "id": "ff8f4367",
   "metadata": {},
   "outputs": [],
   "source": []
  }
 ],
 "metadata": {
  "kernelspec": {
   "display_name": "Python 3 (ipykernel)",
   "language": "python",
   "name": "python3"
  },
  "language_info": {
   "codemirror_mode": {
    "name": "ipython",
    "version": 3
   },
   "file_extension": ".py",
   "mimetype": "text/x-python",
   "name": "python",
   "nbconvert_exporter": "python",
   "pygments_lexer": "ipython3",
   "version": "3.9.12"
  }
 },
 "nbformat": 4,
 "nbformat_minor": 5
}